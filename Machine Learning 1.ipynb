{
 "metadata": {
  "language_info": {
   "codemirror_mode": {
    "name": "ipython",
    "version": 3
   },
   "file_extension": ".py",
   "mimetype": "text/x-python",
   "name": "python",
   "nbconvert_exporter": "python",
   "pygments_lexer": "ipython3",
   "version": "3.8.6-final"
  },
  "orig_nbformat": 2,
  "kernelspec": {
   "name": "python3",
   "display_name": "Python 3.8.6 64-bit",
   "metadata": {
    "interpreter": {
     "hash": "1baa965d5efe3ac65b79dfc60c0d706280b1da80fedb7760faf2759126c4f253"
    }
   }
  }
 },
 "nbformat": 4,
 "nbformat_minor": 2,
 "cells": [
  {
   "source": [
    "# Machine Learning: Sesión 1 Álgebra Lineal"
   ],
   "cell_type": "markdown",
   "metadata": {}
  },
  {
   "cell_type": "code",
   "execution_count": 1,
   "metadata": {},
   "outputs": [],
   "source": [
    "import pandas as pd\n",
    "import numpy as np"
   ]
  },
  {
   "source": [
    "### Puntos y vectores\n",
    "\n",
    "El conjunto de datos usualmente está formador por **puntos** en un espacio $n$-dimensional. Ejemplo de punto 3D:\n",
    "\n",
    "$$ x = (1,2,3) \\; x \\in \\mathbb{R}^{3} $$\n",
    "\n",
    "El conjunto de datos también puede interpretarse como un conjunto de vectores en un espacio $n$-dimensional. Un ejemplo de vector sería el siguiente:\n",
    "\n",
    "$$ x = \\begin{bmatrix} 1\\\\ 2\\\\ 3 \\end{bmatrix} $$\n",
    "\n",
    "En Python podemos declarar este vector de la siguiente forma:"
   ],
   "cell_type": "markdown",
   "metadata": {}
  },
  {
   "cell_type": "code",
   "execution_count": 2,
   "metadata": {},
   "outputs": [
    {
     "output_type": "execute_result",
     "data": {
      "text/plain": [
       "array([1, 2, 3])"
      ]
     },
     "metadata": {},
     "execution_count": 2
    }
   ],
   "source": [
    "x = np.array([1,2,3])\n",
    "x"
   ]
  },
  {
   "source": [
    "### Forma de un vector\n",
    "\n",
    "Los vectores tiene asociada una **forma** que es la que indica como se distribuyen las dimensiones del mismo. Para un vector columna de 3 dimensiones:\n",
    "\n",
    "$$ shape(x) = (3) $$\n",
    "\n",
    "Para un vector matrix de 2 filas y 3 columnas:\n",
    "\n",
    "$$ y = \\begin{bmatrix} 1 & 2 & 3\\\\ 4 & 5 & 6\\end{bmatrix} $$\n",
    "\n",
    "$$ shape(y) = (2,3) $$\n",
    "\n",
    "En Python los vectores multidimensionales se declaran así:"
   ],
   "cell_type": "markdown",
   "metadata": {}
  },
  {
   "cell_type": "code",
   "execution_count": 3,
   "metadata": {},
   "outputs": [
    {
     "output_type": "execute_result",
     "data": {
      "text/plain": [
       "array([[1, 2, 3],\n",
       "       [4, 5, 6]])"
      ]
     },
     "metadata": {},
     "execution_count": 3
    }
   ],
   "source": [
    "y = np.array([[1,2,3],[4,5,6]])\n",
    "y"
   ]
  },
  {
   "source": [
    "La **forma** de un vector es una propiedad de clase:"
   ],
   "cell_type": "markdown",
   "metadata": {}
  },
  {
   "cell_type": "code",
   "execution_count": 4,
   "metadata": {},
   "outputs": [
    {
     "output_type": "stream",
     "name": "stdout",
     "text": [
      "2\n(3,)\n"
     ]
    }
   ],
   "source": [
    "print(y.shape[0])\n",
    "print(x.shape)"
   ]
  },
  {
   "source": [
    "### Dimensión de un vector\n",
    "\n",
    "La **dimensión** de un vector viene dada por la operación $dim(x)$. La operación $dim(x)$ se puede expresar como el productorio de la forma de un vector.\n",
    "\n",
    "$$ dim(x) = \\prod_{d\\in shape(x)} d $$\n",
    "\n",
    "\n",
    "Ejemplos:\n",
    "\n",
    "$$ dim(x) = 3 $$\n",
    "\n",
    "$$ dim(y) = 2 \\cdot  3 = 6 $$"
   ],
   "cell_type": "markdown",
   "metadata": {}
  },
  {
   "cell_type": "code",
   "execution_count": 5,
   "metadata": {},
   "outputs": [
    {
     "output_type": "execute_result",
     "data": {
      "text/plain": [
       "6"
      ]
     },
     "metadata": {},
     "execution_count": 5
    }
   ],
   "source": [
    "np.prod(y.shape)"
   ]
  },
  {
   "source": [
    "### Subíndice de un vector\n",
    "\n",
    "Podemos acceder a las coordenadas de un vector mediante el uso de subíndices sobre la variable.\n",
    "\n",
    "$$ x_i $$\n",
    "$$ y_{i,j} $$\n",
    "\n",
    "Ejemplos:\n",
    "\n",
    "$$ x_2 = 2 $$\n",
    "$$ y_{2,3} = 6 $$\n",
    "\n",
    "Los subíndices en Python a igual que en la mayoría de lenguajes comienzan en $0$ en lugar de $1$ y se expresan mediante el operador de corchetes:"
   ],
   "cell_type": "markdown",
   "metadata": {}
  },
  {
   "cell_type": "code",
   "execution_count": 6,
   "metadata": {},
   "outputs": [
    {
     "output_type": "stream",
     "name": "stdout",
     "text": [
      "2\n6\n"
     ]
    }
   ],
   "source": [
    "print(x[1])\n",
    "print(y[1,2])"
   ]
  },
  {
   "source": [
    "### Norma de un vector\n",
    "\n",
    "La norma de un vector nos indica la distancia al origen de coordenadas de dicho vector o lo que es lo mismo el módulo.\n",
    "\n",
    "$$ ||x||_2 = \\sqrt{\\sum_{i} x_i^{2}} $$\n",
    "$$ ||y||_2 = \\sqrt{\\sum_{i,j} y_{i,j}^{2}} $$\n",
    "\n",
    "Ejemplo:\n",
    "\n",
    "$$ ||x|| = \\sqrt{1^2+2^2+3^2} = \\sqrt{14} = 3.741657386773941 $$\n",
    "$$ ||y|| = 9.539392014169456 $$\n",
    "\n",
    "En Python encontramos la normal en el submódulo de funciones de Algebra Lineal:"
   ],
   "cell_type": "markdown",
   "metadata": {}
  },
  {
   "cell_type": "code",
   "execution_count": 7,
   "metadata": {},
   "outputs": [
    {
     "output_type": "execute_result",
     "data": {
      "text/plain": [
       "9.539392014169456"
      ]
     },
     "metadata": {},
     "execution_count": 7
    }
   ],
   "source": [
    "np.linalg.norm(y)"
   ]
  },
  {
   "source": [
    "### Producto de un vector\n",
    "\n",
    "El producto algebráico de dos vectores:\n",
    "\n",
    "$$ x \\cdot z = \\sum_{i} x_i \\cdot z_i \\in \\mathbb{R} $$\n",
    "\n",
    "El producto geométrico de dos vectores:\n",
    "\n",
    "$$ x \\cdot z = ||x|| \\cdot ||z|| \\cdot \\cos(\\theta) $$\n",
    "\n",
    "Ejemplo:\n",
    "\n",
    "$$ x = [1,2,3]^T $$\n",
    "$$ z = [4,5,6]^T $$\n",
    "$$ x \\cdot z = 1 \\cdot 4 + 2 \\cdot 5 + 3 \\cdot 6 = 32 $$\n",
    "\n",
    "En Python se puede computar haciendo uso del método dot de la clase:"
   ],
   "cell_type": "markdown",
   "metadata": {}
  },
  {
   "cell_type": "code",
   "execution_count": 8,
   "metadata": {},
   "outputs": [
    {
     "output_type": "stream",
     "name": "stdout",
     "text": [
      "32\n32\n32.0\n"
     ]
    }
   ],
   "source": [
    "x = np.array([1,2,3])\n",
    "z = np.array([4,5,6])\n",
    "print(x.dot(z))\n",
    "print((x * z).sum())\n",
    "theta = (x / np.linalg.norm(x)).dot(z / np.linalg.norm(z))\n",
    "print(np.linalg.norm(x) * np.linalg.norm(z) * theta)"
   ]
  },
  {
   "source": [
    "Otra operación muy utilizada es el producto elemento-elemento, que se denota mediante el símbolo $ \\circ $.\n",
    "\n",
    "Sean $x,y \\in \\mathbb{R}^{n}$\n",
    "$$ x \\circ z = \\begin{bmatrix}x_1 \\cdot z_1\\\\ x_2 \\cdot z_2\\\\ ...\\\\ x_n \\cdot z_n\\end{bmatrix} \\in \\mathbb{R}^{n} $$\n",
    "\n",
    "En Python se puede computar haciendo uso del operador *:"
   ],
   "cell_type": "markdown",
   "metadata": {}
  },
  {
   "cell_type": "code",
   "execution_count": 9,
   "metadata": {},
   "outputs": [
    {
     "output_type": "execute_result",
     "data": {
      "text/plain": [
       "array([ 4, 10, 18])"
      ]
     },
     "metadata": {},
     "execution_count": 9
    }
   ],
   "source": [
    "x = np.array([1,2,3])\n",
    "z = np.array([4,5,6])\n",
    "x * z"
   ]
  },
  {
   "source": [
    "### Producto matricial 2D\n",
    "\n",
    "Sean $A \\in \\mathbb{R}^{m \\times n}$ y $B \\in \\mathbb{R}^{n \\times p}$ dos matrices bidimensionales, enconces se define el producto como:\n",
    "\n",
    "$$ A \\cdot B \\in \\mathbb{R}^{m \\times p} $$\n",
    "donde,\n",
    "$$ (A \\cdot B)_{i,j} = \\sum_{k=1}^{n} a_{i,k} \\cdot b_{k,j} $$\n",
    "\n",
    "En Python se pueden declarar matrices y computar su producto de la siguiente forma:"
   ],
   "cell_type": "markdown",
   "metadata": {}
  },
  {
   "cell_type": "code",
   "execution_count": 10,
   "metadata": {},
   "outputs": [
    {
     "output_type": "stream",
     "name": "stdout",
     "text": [
      "[[0.2620965  0.78834198 0.11666693 0.59005301]\n [0.67658066 0.06831    0.14013539 0.26348598]\n [0.18570828 0.36536673 0.77320317 0.52131375]]\n(3, 4)\n[[0.53042799 0.49492047]\n [0.89916935 0.38850822]\n [0.09515178 0.08108483]\n [0.85867507 0.55121035]]\n(4, 2)\n[[1.36564114 0.7706975 ]\n [0.65988256 0.51799167]\n [0.94824221 0.58390739]]\n(3, 2)\n"
     ]
    }
   ],
   "source": [
    "m = 3\n",
    "n = 4\n",
    "p = 2\n",
    "A = np.random.rand(m,n)\n",
    "print(A)\n",
    "print(A.shape)\n",
    "B = np.random.rand(n,p)\n",
    "print(B)\n",
    "print(B.shape)\n",
    "\n",
    "C = A.dot(B)\n",
    "print(C)\n",
    "print(C.shape)"
   ]
  },
  {
   "source": [
    "### Producto matricial 3D\n",
    "\n",
    "Sean $A \\in \\mathbb{R}^{m \\times n \\times r}$ y $B \\in \\mathbb{R}^{n \\times d \\times r}$ dos matrices tridimensionales, entonces se define el producto como:\n",
    "\n",
    "$$ A \\times B \\in \\mathbb{R}^{m \\times d \\times r} $$\n",
    "\n",
    "En Python se pueden declarar matrices y computar su producto 3D de la siguiente forma:"
   ],
   "cell_type": "markdown",
   "metadata": {}
  },
  {
   "cell_type": "code",
   "execution_count": 11,
   "metadata": {},
   "outputs": [
    {
     "output_type": "stream",
     "name": "stdout",
     "text": [
      "(2, 1, 4)\n"
     ]
    }
   ],
   "source": [
    "import numpy as np\n",
    "\n",
    "D,M,N,R = 1,2,3,4\n",
    "A = np.random.rand(M,N,R)\n",
    "B = np.random.rand(N,D,R)\n",
    "C = np.einsum('mnr,ndr->mdr', A, B)\n",
    "print(C.shape)"
   ]
  },
  {
   "source": [
    "NumPy en una biblioteca de vectores multidimensionales que permite trabajar con matrices de mas de dos coordenadas en la forma."
   ],
   "cell_type": "markdown",
   "metadata": {}
  },
  {
   "cell_type": "code",
   "execution_count": 12,
   "metadata": {},
   "outputs": [
    {
     "output_type": "execute_result",
     "data": {
      "text/plain": [
       "(1, 2, 3, 4, 5)"
      ]
     },
     "metadata": {},
     "execution_count": 12
    }
   ],
   "source": [
    "X = np.random.rand(1,2,3,4,5)\n",
    "X.shape"
   ]
  },
  {
   "source": [
    "La mayoría de operaciones pueden aplicarse con independencia de la dimensionalidad de trabajo."
   ],
   "cell_type": "markdown",
   "metadata": {}
  },
  {
   "cell_type": "code",
   "execution_count": 13,
   "metadata": {},
   "outputs": [
    {
     "output_type": "execute_result",
     "data": {
      "text/plain": [
       "(1, 2, 3, 4, 5)"
      ]
     },
     "metadata": {},
     "execution_count": 13
    }
   ],
   "source": [
    "(X * X).shape"
   ]
  },
  {
   "source": [
    "### Métodos de factoría\n",
    "\n",
    "¿Cómo podemos crear matrices de una forma rápida?\n",
    "\n",
    "Crear un vector en un rango de valores:"
   ],
   "cell_type": "markdown",
   "metadata": {}
  },
  {
   "cell_type": "code",
   "execution_count": 14,
   "metadata": {},
   "outputs": [
    {
     "output_type": "execute_result",
     "data": {
      "text/plain": [
       "array([3, 5, 7, 9])"
      ]
     },
     "metadata": {},
     "execution_count": 14
    }
   ],
   "source": [
    "x = np.arange(3,10,2)\n",
    "x"
   ]
  },
  {
   "source": [
    "Crear una matriz uniformemente distribuida en el intervalo $[0,1]$:"
   ],
   "cell_type": "markdown",
   "metadata": {}
  },
  {
   "cell_type": "code",
   "execution_count": 15,
   "metadata": {},
   "outputs": [
    {
     "output_type": "execute_result",
     "data": {
      "text/plain": [
       "array([[0.65548885, 0.28416989, 0.54674888, 0.40231129],\n",
       "       [0.80270333, 0.57880115, 0.92173674, 0.61081377],\n",
       "       [0.53193788, 0.11923362, 0.31588408, 0.35805931]])"
      ]
     },
     "metadata": {},
     "execution_count": 15
    }
   ],
   "source": [
    "X = np.random.rand(3,4)\n",
    "X"
   ]
  },
  {
   "source": [
    "Crea una matriz identidad de cualquier dimensión:"
   ],
   "cell_type": "markdown",
   "metadata": {}
  },
  {
   "cell_type": "code",
   "execution_count": 16,
   "metadata": {},
   "outputs": [
    {
     "output_type": "execute_result",
     "data": {
      "text/plain": [
       "array([[1., 0., 0., 0., 0.],\n",
       "       [0., 1., 0., 0., 0.],\n",
       "       [0., 0., 1., 0., 0.],\n",
       "       [0., 0., 0., 1., 0.],\n",
       "       [0., 0., 0., 0., 1.]])"
      ]
     },
     "metadata": {},
     "execution_count": 16
    }
   ],
   "source": [
    "X = np.eye(5)\n",
    "X"
   ]
  },
  {
   "source": [
    "Crear una matriz de zeros:"
   ],
   "cell_type": "markdown",
   "metadata": {}
  },
  {
   "cell_type": "code",
   "execution_count": 17,
   "metadata": {},
   "outputs": [
    {
     "output_type": "execute_result",
     "data": {
      "text/plain": [
       "array([[0., 0., 0., 0.],\n",
       "       [0., 0., 0., 0.],\n",
       "       [0., 0., 0., 0.]])"
      ]
     },
     "metadata": {},
     "execution_count": 17
    }
   ],
   "source": [
    "X = np.zeros((3,4))\n",
    "X"
   ]
  },
  {
   "source": [
    "Crear una matriz de unos:"
   ],
   "cell_type": "markdown",
   "metadata": {}
  },
  {
   "cell_type": "code",
   "execution_count": 18,
   "metadata": {},
   "outputs": [
    {
     "output_type": "execute_result",
     "data": {
      "text/plain": [
       "array([[1., 1., 1., 1.],\n",
       "       [1., 1., 1., 1.],\n",
       "       [1., 1., 1., 1.]])"
      ]
     },
     "metadata": {},
     "execution_count": 18
    }
   ],
   "source": [
    "X = np.ones((3,4))\n",
    "X"
   ]
  },
  {
   "source": [
    "### Consultas avanzas por índices\n",
    "\n",
    "¿Cómo obtener la diagonal de una matriz mediante índices?"
   ],
   "cell_type": "markdown",
   "metadata": {}
  },
  {
   "cell_type": "code",
   "execution_count": 19,
   "metadata": {},
   "outputs": [
    {
     "output_type": "stream",
     "name": "stdout",
     "text": [
      "[[0.98095206 0.05794687 0.98766211 0.7628804  0.35052473]\n [0.53888922 0.01382501 0.91058295 0.90475043 0.02892106]\n [0.51938985 0.42382222 0.79292435 0.44193552 0.97774314]\n [0.67876866 0.03696018 0.89406935 0.34564465 0.67437005]\n [0.68012674 0.77766106 0.2973828  0.7958787  0.14810889]]\n"
     ]
    },
    {
     "output_type": "execute_result",
     "data": {
      "text/plain": [
       "array([0.98095206, 0.01382501, 0.79292435, 0.34564465, 0.14810889])"
      ]
     },
     "metadata": {},
     "execution_count": 19
    }
   ],
   "source": [
    "X = np.random.rand(5,5)\n",
    "print(X)\n",
    "X[np.arange(0,5),np.arange(0,5)]"
   ]
  },
  {
   "cell_type": "code",
   "execution_count": 20,
   "metadata": {},
   "outputs": [
    {
     "output_type": "stream",
     "name": "stdout",
     "text": [
      "[[1 4 0 1 3]\n [0 8 1 0 4]\n [0 3 4 3 4]\n [0 7 1 1 1]\n [4 6 6 0 9]\n [2 4 5 6 1]\n [8 4 5 8 8]\n [5 3 7 6 3]\n [8 4 4 5 2]\n [9 0 5 8 4]]\n"
     ]
    }
   ],
   "source": [
    "X = np.random.randint(low = 0, high = 10, size = (10,5))\n",
    "print(X)"
   ]
  },
  {
   "source": [
    "Mostrar todas las filas en la que la primera columna sea mayor que 3."
   ],
   "cell_type": "markdown",
   "metadata": {}
  },
  {
   "cell_type": "code",
   "execution_count": 21,
   "metadata": {},
   "outputs": [
    {
     "output_type": "execute_result",
     "data": {
      "text/plain": [
       "array([[4, 6, 6, 0, 9],\n",
       "       [8, 4, 5, 8, 8],\n",
       "       [5, 3, 7, 6, 3],\n",
       "       [8, 4, 4, 5, 2],\n",
       "       [9, 0, 5, 8, 4]])"
      ]
     },
     "metadata": {},
     "execution_count": 21
    }
   ],
   "source": [
    "X[X[:,0] > 3]"
   ]
  },
  {
   "source": [
    "Mostrar todas las columnas que su media sea mayor que 6."
   ],
   "cell_type": "markdown",
   "metadata": {}
  },
  {
   "cell_type": "code",
   "execution_count": 22,
   "metadata": {},
   "outputs": [
    {
     "output_type": "execute_result",
     "data": {
      "text/plain": [
       "(10, 5)"
      ]
     },
     "metadata": {},
     "execution_count": 22
    }
   ],
   "source": [
    "X.mean(axis = 0)\n",
    "X.shape"
   ]
  },
  {
   "cell_type": "code",
   "execution_count": 23,
   "metadata": {},
   "outputs": [
    {
     "output_type": "execute_result",
     "data": {
      "text/plain": [
       "array([], shape=(10, 0), dtype=int32)"
      ]
     },
     "metadata": {},
     "execution_count": 23
    }
   ],
   "source": [
    "X[:,X.mean(axis = 0) > 6]"
   ]
  },
  {
   "cell_type": "code",
   "execution_count": 24,
   "metadata": {},
   "outputs": [
    {
     "output_type": "execute_result",
     "data": {
      "text/plain": [
       "array([[0.30721466, 0.5119455 , 0.20039097, 0.9565932 , 0.91628224],\n",
       "       [0.91314436, 0.96423063, 0.76960368, 0.84850671, 0.02866106],\n",
       "       [0.29786719, 0.23406587, 0.29967254, 0.65305394, 0.48079756],\n",
       "       [0.0127373 , 0.67190139, 0.88066499, 0.88695711, 0.42894617],\n",
       "       [0.33221568, 0.22689549, 0.65802827, 0.31962448, 0.06305752]])"
      ]
     },
     "metadata": {},
     "execution_count": 24
    }
   ],
   "source": [
    "X = np.random.rand(5,5)\n",
    "X"
   ]
  },
  {
   "source": [
    "¿En qué coordenadas se encuentra el máximo de la matriz X?"
   ],
   "cell_type": "markdown",
   "metadata": {}
  },
  {
   "cell_type": "code",
   "execution_count": 25,
   "metadata": {},
   "outputs": [
    {
     "output_type": "execute_result",
     "data": {
      "text/plain": [
       "(1, 1)"
      ]
     },
     "metadata": {},
     "execution_count": 25
    }
   ],
   "source": [
    "np.unravel_index(X.argmax(), X.shape)"
   ]
  },
  {
   "source": [
    "Calcular percentiles de conjuntos:"
   ],
   "cell_type": "markdown",
   "metadata": {}
  },
  {
   "cell_type": "code",
   "execution_count": 26,
   "metadata": {},
   "outputs": [
    {
     "output_type": "execute_result",
     "data": {
      "text/plain": [
       "0.013692723079126824"
      ]
     },
     "metadata": {},
     "execution_count": 26
    }
   ],
   "source": [
    "np.percentile(X, 0.25)"
   ]
  },
  {
   "cell_type": "code",
   "execution_count": 27,
   "metadata": {},
   "outputs": [
    {
     "output_type": "execute_result",
     "data": {
      "text/plain": [
       "array([[0.78978993, 0.24223657],\n",
       "       [0.30218318, 0.49691334],\n",
       "       [0.43840966, 0.08827853]])"
      ]
     },
     "metadata": {},
     "execution_count": 27
    }
   ],
   "source": [
    "X = np.random.rand(3,2)\n",
    "X"
   ]
  },
  {
   "source": [
    "Calcular la varianza de las columnas:"
   ],
   "cell_type": "markdown",
   "metadata": {}
  },
  {
   "cell_type": "code",
   "execution_count": 28,
   "metadata": {},
   "outputs": [
    {
     "output_type": "execute_result",
     "data": {
      "text/plain": [
       "array([0.04219845, 0.02839397])"
      ]
     },
     "metadata": {},
     "execution_count": 28
    }
   ],
   "source": [
    "X.var(axis = 0)"
   ]
  },
  {
   "source": [
    "Calcular la varianza de las filas:"
   ],
   "cell_type": "markdown",
   "metadata": {}
  },
  {
   "cell_type": "code",
   "execution_count": 29,
   "metadata": {},
   "outputs": [
    {
     "output_type": "execute_result",
     "data": {
      "text/plain": [
       "array([0.07495367, 0.00947996, 0.03064795])"
      ]
     },
     "metadata": {},
     "execution_count": 29
    }
   ],
   "source": [
    "X.var(axis = 1)"
   ]
  },
  {
   "cell_type": "code",
   "execution_count": 30,
   "metadata": {},
   "outputs": [
    {
     "output_type": "execute_result",
     "data": {
      "text/plain": [
       "array([[0.78978993, 0.24223657],\n",
       "       [0.30218318, 0.49691334],\n",
       "       [0.43840966, 0.08827853]])"
      ]
     },
     "metadata": {},
     "execution_count": 30
    }
   ],
   "source": [
    "X.T.T"
   ]
  },
  {
   "source": [
    "Agregar una fila más a un conjunto de datos"
   ],
   "cell_type": "markdown",
   "metadata": {}
  },
  {
   "cell_type": "code",
   "execution_count": 31,
   "metadata": {},
   "outputs": [
    {
     "output_type": "stream",
     "name": "stdout",
     "text": [
      "[[0.78978993 0.24223657]\n [0.30218318 0.49691334]\n [0.43840966 0.08827853]]\n"
     ]
    },
    {
     "output_type": "execute_result",
     "data": {
      "text/plain": [
       "array([[3.        , 4.        ],\n",
       "       [0.78978993, 0.24223657],\n",
       "       [0.30218318, 0.49691334],\n",
       "       [0.43840966, 0.08827853]])"
      ]
     },
     "metadata": {},
     "execution_count": 31
    }
   ],
   "source": [
    "print(X)\n",
    "Y = np.vstack((np.array([3,4]),X))\n",
    "Y"
   ]
  },
  {
   "cell_type": "code",
   "execution_count": 50,
   "metadata": {},
   "outputs": [
    {
     "output_type": "execute_result",
     "data": {
      "text/plain": [
       "array([[0.5837322 , 0.84594006, 0.34260897, 0.19433426],\n",
       "       [0.97798159, 0.1412729 , 0.15775251, 0.19022168],\n",
       "       [0.39259429, 0.71139166, 0.32912447, 0.34758384],\n",
       "       [0.05649843, 0.52215662, 0.59085382, 0.03820431],\n",
       "       [0.53248062, 0.83044541, 0.04234408, 0.07117174],\n",
       "       [0.92145575, 0.7926362 , 0.0165094 , 0.34552023],\n",
       "       [0.78764021, 0.84296928, 0.12765573, 0.75782947],\n",
       "       [0.0957084 , 0.05668056, 0.96847666, 0.97537199],\n",
       "       [0.43658782, 0.18974116, 0.34983213, 0.5996571 ],\n",
       "       [0.25457322, 0.12240757, 0.7427773 , 0.95112124],\n",
       "       [0.25728529, 0.45770981, 0.91870782, 0.71528936],\n",
       "       [0.95945385, 0.21672437, 0.20707578, 0.03231521],\n",
       "       [0.45915718, 0.06984681, 0.04182697, 0.73509831],\n",
       "       [0.79445124, 0.91317239, 0.69665685, 0.95611342],\n",
       "       [0.26909916, 0.63944476, 0.2135892 , 0.8509043 ],\n",
       "       [0.06252714, 0.57801302, 0.01494648, 0.19540662],\n",
       "       [0.82261735, 0.29053978, 0.38416717, 0.68761187],\n",
       "       [0.51656667, 0.13464105, 0.31404238, 0.53076099],\n",
       "       [0.31988363, 0.03279562, 0.12835603, 0.85526431],\n",
       "       [0.87060279, 0.28736495, 0.32921615, 0.66444796],\n",
       "       [0.38150025, 0.12613115, 0.53310456, 0.02815493],\n",
       "       [0.74703731, 0.11969734, 0.66002185, 0.94914784],\n",
       "       [0.39005932, 0.81190946, 0.55537809, 0.33847336],\n",
       "       [0.52275595, 0.99627596, 0.40865397, 0.39387016],\n",
       "       [0.38588624, 0.32503706, 0.46202508, 0.24050352]])"
      ]
     },
     "metadata": {},
     "execution_count": 50
    }
   ],
   "source": [
    "n = 4\n",
    "m = 25\n",
    "X = np.random.rand(m,n)\n",
    "X"
   ]
  },
  {
   "source": [
    "### Descomposición en Valores Singulares SVD\n",
    "\n",
    "$$ X = U \\cdot S \\cdot V $$\n",
    "\n",
    "donde,\n",
    "\n",
    "$ X \\in \\mathbb{R}^{m \\times n}$\n",
    "\n",
    "$ U \\in \\mathbb{R}^{n \\times m}$ es ortogonal.\n",
    "\n",
    "$ S \\in \\mathbb{R}^{m \\times m}$ es diagonal.\n",
    "\n",
    "$ V \\in \\mathbb{R}^{m \\times m}$ es ortogonal.\n",
    "\n",
    "Los elementos de la diagonal de $S$ se les denomina **valores singulares**.\n",
    "\n",
    "Las columnas de $U$ son las direcciones principales de salida.\n",
    "\n",
    "Las columnas de $V$ son las direcciones principales de entrada."
   ],
   "cell_type": "markdown",
   "metadata": {}
  },
  {
   "source": [
    "### Matrices Ortogonales\n",
    "\n",
    "Sea $X$ una matriz ortogonal entonces:\n",
    "\n",
    "$ X \\cdot X.T = I $\n",
    "\n",
    "Tanto las filas como las columnas de $ X $ son vectores unitarios."
   ],
   "cell_type": "markdown",
   "metadata": {}
  },
  {
   "cell_type": "code",
   "execution_count": 51,
   "metadata": {},
   "outputs": [
    {
     "output_type": "execute_result",
     "data": {
      "text/plain": [
       "(25, 4)"
      ]
     },
     "metadata": {},
     "execution_count": 51
    }
   ],
   "source": [
    "X.shape"
   ]
  },
  {
   "source": [
    "u,s,v = np.linalg.svd(X, full_matrices = False)"
   ],
   "cell_type": "code",
   "metadata": {},
   "execution_count": 39,
   "outputs": []
  },
  {
   "cell_type": "code",
   "execution_count": 40,
   "metadata": {},
   "outputs": [
    {
     "output_type": "execute_result",
     "data": {
      "text/plain": [
       "(200, 4)"
      ]
     },
     "metadata": {},
     "execution_count": 40
    }
   ],
   "source": [
    "u.shape"
   ]
  },
  {
   "cell_type": "code",
   "execution_count": 41,
   "metadata": {},
   "outputs": [
    {
     "output_type": "execute_result",
     "data": {
      "text/plain": [
       "(4,)"
      ]
     },
     "metadata": {},
     "execution_count": 41
    }
   ],
   "source": [
    "s.shape"
   ]
  },
  {
   "cell_type": "code",
   "execution_count": 48,
   "metadata": {},
   "outputs": [
    {
     "output_type": "execute_result",
     "data": {
      "text/plain": [
       "array([0.56817937, 0.1533099 , 0.1485967 , 0.12991402])"
      ]
     },
     "metadata": {},
     "execution_count": 48
    }
   ],
   "source": [
    "s / s.sum()"
   ]
  },
  {
   "cell_type": "code",
   "execution_count": 42,
   "metadata": {},
   "outputs": [
    {
     "output_type": "execute_result",
     "data": {
      "text/plain": [
       "(4, 4)"
      ]
     },
     "metadata": {},
     "execution_count": 42
    }
   ],
   "source": [
    "v.shape"
   ]
  },
  {
   "cell_type": "code",
   "execution_count": 46,
   "metadata": {},
   "outputs": [
    {
     "output_type": "execute_result",
     "data": {
      "text/plain": [
       "-2.989409934872622e-13"
      ]
     },
     "metadata": {},
     "execution_count": 46
    }
   ],
   "source": [
    "((u * s).dot(v) - X).sum()"
   ]
  },
  {
   "cell_type": "code",
   "execution_count": 53,
   "metadata": {},
   "outputs": [
    {
     "output_type": "execute_result",
     "data": {
      "text/plain": [
       "array([[ 0.20658319, -1.0167062 ,  0.09359733],\n",
       "       [-0.36322287, -0.75758675, -0.44892336],\n",
       "       [ 0.27732659, -0.89231984,  0.03718488],\n",
       "       [ 0.07599118, -0.64125777,  0.45200184],\n",
       "       [ 0.29986436, -0.77127148,  0.02850545],\n",
       "       [ 0.21240596, -1.04812524, -0.35005975],\n",
       "       [ 0.42793934, -1.21511646, -0.45583505],\n",
       "       [-0.02956677, -0.97067953, -0.10037797],\n",
       "       [ 0.00886813, -0.74712057, -0.31537366],\n",
       "       [ 0.02491741, -0.9582933 , -0.25664666],\n",
       "       [ 0.07167739, -1.14468013,  0.09872399],\n",
       "       [-0.39019213, -0.75590177, -0.29186554],\n",
       "       [ 0.10682791, -0.57788415, -0.61315217],\n",
       "       [ 0.30655226, -1.63997792, -0.2531035 ],\n",
       "       [ 0.54220844, -0.91034843, -0.2920203 ],\n",
       "       [ 0.4203524 , -0.41655536,  0.07283021],\n",
       "       [-0.0879017 , -1.05919515, -0.49843858],\n",
       "       [-0.07762463, -0.71640772, -0.35154707],\n",
       "       [ 0.16028554, -0.57504119, -0.58634402],\n",
       "       [-0.09856293, -1.04479392, -0.53765397],\n",
       "       [-0.31632296, -0.57378395,  0.12630449],\n",
       "       [-0.17614224, -1.17633006, -0.53647526],\n",
       "       [ 0.24338114, -1.06403358,  0.19962074],\n",
       "       [ 0.38609391, -1.17223068,  0.09324218],\n",
       "       [-0.07212253, -0.71966238,  0.03264432]])"
      ]
     },
     "metadata": {},
     "execution_count": 53
    }
   ],
   "source": [
    "X.dot(v[:,:3])"
   ]
  },
  {
   "cell_type": "code",
   "execution_count": null,
   "metadata": {},
   "outputs": [],
   "source": []
  }
 ]
}